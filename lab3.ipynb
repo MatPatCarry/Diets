{
 "cells": [
  {
   "cell_type": "code",
   "execution_count": 4,
   "metadata": {},
   "outputs": [],
   "source": [
    "imiona = ['Piotrek', 'Stefan', 'Paweł', 'Maciek', 'Ola', 'Ala', 'Damian', 'Iwonka', 'Marysia', 'Maja']\n",
    "osoby = {id_ : imie for id_, imie in zip(range(1, 11), imiona)}"
   ]
  },
  {
   "cell_type": "code",
   "execution_count": 5,
   "metadata": {},
   "outputs": [
    {
     "data": {
      "text/plain": [
       "{1: 'Piotrek',\n",
       " 2: 'Stefan',\n",
       " 3: 'Paweł',\n",
       " 4: 'Maciek',\n",
       " 5: 'Ola',\n",
       " 6: 'Ala',\n",
       " 7: 'Damian',\n",
       " 8: 'Iwonka',\n",
       " 9: 'Marysia',\n",
       " 10: 'Maja'}"
      ]
     },
     "execution_count": 5,
     "metadata": {},
     "output_type": "execute_result"
    }
   ],
   "source": [
    "osoby"
   ]
  },
  {
   "cell_type": "code",
   "execution_count": 6,
   "metadata": {},
   "outputs": [
    {
     "name": "stdout",
     "output_type": "stream",
     "text": [
      "1\n",
      "2\n",
      "3\n",
      "4\n",
      "5\n",
      "6\n",
      "7\n",
      "8\n",
      "9\n",
      "10\n"
     ]
    }
   ],
   "source": [
    "print(*osoby.keys(), sep='\\n')"
   ]
  },
  {
   "cell_type": "code",
   "execution_count": 7,
   "metadata": {},
   "outputs": [
    {
     "name": "stdout",
     "output_type": "stream",
     "text": [
      "1\n",
      "2\n",
      "3\n",
      "4\n",
      "5\n",
      "6\n",
      "7\n",
      "8\n",
      "9\n",
      "10\n"
     ]
    }
   ],
   "source": [
    "for id_ in osoby:\n",
    "    print(id_)"
   ]
  },
  {
   "cell_type": "code",
   "execution_count": 8,
   "metadata": {},
   "outputs": [
    {
     "name": "stdout",
     "output_type": "stream",
     "text": [
      "Piotrek\n",
      "Stefan\n",
      "Paweł\n",
      "Maciek\n",
      "Ola\n",
      "Ala\n",
      "Damian\n",
      "Iwonka\n",
      "Marysia\n",
      "Maja\n"
     ]
    }
   ],
   "source": [
    "print(*osoby.values(), sep='\\n')"
   ]
  },
  {
   "cell_type": "code",
   "execution_count": 9,
   "metadata": {},
   "outputs": [
    {
     "name": "stdout",
     "output_type": "stream",
     "text": [
      "Piotrek\n",
      "Stefan\n",
      "Paweł\n",
      "Maciek\n",
      "Ola\n",
      "Ala\n",
      "Damian\n",
      "Iwonka\n",
      "Marysia\n",
      "Maja\n"
     ]
    }
   ],
   "source": [
    "for imie in osoby.values():\n",
    "    print(imie)"
   ]
  },
  {
   "cell_type": "code",
   "execution_count": 10,
   "metadata": {},
   "outputs": [
    {
     "data": {
      "text/plain": [
       "[(1, 'Piotrek'),\n",
       " (2, 'Stefan'),\n",
       " (3, 'Paweł'),\n",
       " (4, 'Maciek'),\n",
       " (5, 'Ola'),\n",
       " (6, 'Ala'),\n",
       " (7, 'Damian'),\n",
       " (8, 'Iwonka'),\n",
       " (9, 'Marysia'),\n",
       " (10, 'Maja')]"
      ]
     },
     "execution_count": 10,
     "metadata": {},
     "output_type": "execute_result"
    }
   ],
   "source": [
    "list_of_tuples = [(id_, osoba) for id_, osoba in osoby.items()]\n",
    "list_of_tuples"
   ]
  },
  {
   "cell_type": "code",
   "execution_count": 11,
   "metadata": {},
   "outputs": [
    {
     "data": {
      "text/plain": [
       "[(1, 'Piotrek'),\n",
       " (2, 'Stefan'),\n",
       " (3, 'Paweł'),\n",
       " (4, 'Maciek'),\n",
       " (5, 'Ola'),\n",
       " (6, 'Ala'),\n",
       " (7, 'Damian'),\n",
       " (8, 'Iwonka'),\n",
       " (9, 'Marysia'),\n",
       " (10, 'Maja')]"
      ]
     },
     "execution_count": 11,
     "metadata": {},
     "output_type": "execute_result"
    }
   ],
   "source": [
    "list_of_tuples_2 = list(zip(osoby.keys(), osoby.values()))\n",
    "list_of_tuples_2"
   ]
  },
  {
   "cell_type": "code",
   "execution_count": 12,
   "metadata": {},
   "outputs": [
    {
     "data": {
      "text/plain": [
       "['Piotrek',\n",
       " 'Stefan',\n",
       " 'Paweł',\n",
       " 'Maciek',\n",
       " 'Ola',\n",
       " 'Ala',\n",
       " 'Damian',\n",
       " 'Iwonka',\n",
       " 'Marysia',\n",
       " 'Maja']"
      ]
     },
     "execution_count": 12,
     "metadata": {},
     "output_type": "execute_result"
    }
   ],
   "source": [
    "imiona"
   ]
  },
  {
   "cell_type": "code",
   "execution_count": 13,
   "metadata": {},
   "outputs": [
    {
     "data": {
      "text/plain": [
       "['Ala',\n",
       " 'Damian',\n",
       " 'Iwonka',\n",
       " 'Maciek',\n",
       " 'Maja',\n",
       " 'Marysia',\n",
       " 'Ola',\n",
       " 'Paweł',\n",
       " 'Piotrek',\n",
       " 'Stefan']"
      ]
     },
     "execution_count": 13,
     "metadata": {},
     "output_type": "execute_result"
    }
   ],
   "source": [
    "sorted(imiona)"
   ]
  },
  {
   "cell_type": "code",
   "execution_count": 14,
   "metadata": {},
   "outputs": [
    {
     "data": {
      "text/plain": [
       "['Piotrek',\n",
       " 'Stefan',\n",
       " 'Paweł',\n",
       " 'Maciek',\n",
       " 'Ola',\n",
       " 'Ala',\n",
       " 'Damian',\n",
       " 'Iwonka',\n",
       " 'Marysia',\n",
       " 'Maja']"
      ]
     },
     "execution_count": 14,
     "metadata": {},
     "output_type": "execute_result"
    }
   ],
   "source": [
    "imiona"
   ]
  },
  {
   "cell_type": "code",
   "execution_count": 15,
   "metadata": {},
   "outputs": [
    {
     "data": {
      "text/plain": [
       "[(9, 'Marysia'),\n",
       " (1, 'Piotrek'),\n",
       " (8, 'Iwonka'),\n",
       " (7, 'Damian'),\n",
       " (4, 'Maciek'),\n",
       " (2, 'Stefan'),\n",
       " (3, 'Paweł'),\n",
       " (10, 'Maja'),\n",
       " (6, 'Ala'),\n",
       " (5, 'Ola')]"
      ]
     },
     "execution_count": 15,
     "metadata": {},
     "output_type": "execute_result"
    }
   ],
   "source": [
    "sorted_list_of_tuples = sorted(list_of_tuples, key=lambda x: len(x[1]))[::-1]\n",
    "sorted_list_of_tuples"
   ]
  },
  {
   "cell_type": "code",
   "execution_count": 16,
   "metadata": {},
   "outputs": [],
   "source": [
    "import numpy as np"
   ]
  },
  {
   "cell_type": "code",
   "execution_count": 17,
   "metadata": {},
   "outputs": [],
   "source": [
    "znajomosci = [(1, 2), (1, 3), (1, 4), (3, 7), (2, 7), (8, 10), (2, 9), (6, 3), (8, 1)]"
   ]
  },
  {
   "cell_type": "code",
   "execution_count": 18,
   "metadata": {},
   "outputs": [
    {
     "data": {
      "text/plain": [
       "{1: [], 2: [], 3: [], 4: [], 5: [], 6: [], 7: [], 8: [], 9: [], 10: []}"
      ]
     },
     "execution_count": 18,
     "metadata": {},
     "output_type": "execute_result"
    }
   ],
   "source": [
    "znajomosci_osob = {id_: [] for id_ in range(1, 11)}\n",
    "znajomosci_osob\n"
   ]
  },
  {
   "cell_type": "code",
   "execution_count": 19,
   "metadata": {},
   "outputs": [],
   "source": [
    "for index, (p1, p2) in enumerate(znajomosci):\n",
    "    znajomosci_osob[p1].append(osoby[p2])\n",
    "    znajomosci_osob[p2].append(osoby[p1])"
   ]
  },
  {
   "cell_type": "code",
   "execution_count": 20,
   "metadata": {},
   "outputs": [
    {
     "data": {
      "text/plain": [
       "{1: ['Stefan', 'Paweł', 'Maciek', 'Iwonka'],\n",
       " 2: ['Piotrek', 'Damian', 'Marysia'],\n",
       " 3: ['Piotrek', 'Damian', 'Ala'],\n",
       " 4: ['Piotrek'],\n",
       " 5: [],\n",
       " 6: ['Paweł'],\n",
       " 7: ['Paweł', 'Stefan'],\n",
       " 8: ['Maja', 'Piotrek'],\n",
       " 9: ['Stefan'],\n",
       " 10: ['Iwonka']}"
      ]
     },
     "execution_count": 20,
     "metadata": {},
     "output_type": "execute_result"
    }
   ],
   "source": [
    "znajomosci_osob"
   ]
  },
  {
   "cell_type": "code",
   "execution_count": null,
   "metadata": {},
   "outputs": [],
   "source": []
  }
 ],
 "metadata": {
  "kernelspec": {
   "display_name": "Python 3.9.12 ('base')",
   "language": "python",
   "name": "python3"
  },
  "language_info": {
   "codemirror_mode": {
    "name": "ipython",
    "version": 3
   },
   "file_extension": ".py",
   "mimetype": "text/x-python",
   "name": "python",
   "nbconvert_exporter": "python",
   "pygments_lexer": "ipython3",
   "version": "3.9.12"
  },
  "orig_nbformat": 4,
  "vscode": {
   "interpreter": {
    "hash": "ad2bdc8ecc057115af97d19610ffacc2b4e99fae6737bb82f5d7fb13d2f2c186"
   }
  }
 },
 "nbformat": 4,
 "nbformat_minor": 2
}
