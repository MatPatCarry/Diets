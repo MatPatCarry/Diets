{
 "cells": [
  {
   "cell_type": "code",
   "execution_count": 5,
   "metadata": {},
   "outputs": [],
   "source": [
    "with open('test1.txt', 'w+') as f:\n",
    "    f.write('Pierwsza linia\\nDruga linia')"
   ]
  },
  {
   "cell_type": "code",
   "execution_count": 7,
   "metadata": {},
   "outputs": [
    {
     "name": "stdout",
     "output_type": "stream",
     "text": [
      "['Pierwsza linia\\n', 'Druga linia']\n",
      "Pierwsza linia\n",
      " Druga linia\n"
     ]
    }
   ],
   "source": [
    "with open('test1.txt', 'r+') as f:\n",
    "    lines = f.readlines()\n",
    "    print(*lines)"
   ]
  },
  {
   "cell_type": "code",
   "execution_count": 16,
   "metadata": {},
   "outputs": [
    {
     "name": "stdout",
     "output_type": "stream",
     "text": [
      "to jest drugi plik\n",
      "i jego druga linia\n",
      "z chrząszczem\n"
     ]
    }
   ],
   "source": [
    "with open('test2.txt', 'r+', encoding='utf-8') as f2:\n",
    "    lines2 = f2.readlines()\n",
    "    lines2 = [line.strip('\\n') for line in lines2]\n",
    "    print(*lines2, sep='\\n')"
   ]
  },
  {
   "cell_type": "code",
   "execution_count": 18,
   "metadata": {},
   "outputs": [
    {
     "name": "stdout",
     "output_type": "stream",
     "text": [
      "to jest drugi plik\n",
      "i jego druga linia\n",
      "z chrząszczem\n"
     ]
    }
   ],
   "source": [
    "with open('test2.txt', 'r+', encoding='utf-8') as f2:\n",
    "    for line in f2:\n",
    "        print(line.strip('\\n'))\n"
   ]
  },
  {
   "cell_type": "code",
   "execution_count": null,
   "metadata": {},
   "outputs": [],
   "source": []
  }
 ],
 "metadata": {
  "kernelspec": {
   "display_name": "Python 3.9.12 ('base')",
   "language": "python",
   "name": "python3"
  },
  "language_info": {
   "codemirror_mode": {
    "name": "ipython",
    "version": 3
   },
   "file_extension": ".py",
   "mimetype": "text/x-python",
   "name": "python",
   "nbconvert_exporter": "python",
   "pygments_lexer": "ipython3",
   "version": "3.9.12"
  },
  "orig_nbformat": 4,
  "vscode": {
   "interpreter": {
    "hash": "ad2bdc8ecc057115af97d19610ffacc2b4e99fae6737bb82f5d7fb13d2f2c186"
   }
  }
 },
 "nbformat": 4,
 "nbformat_minor": 2
}
