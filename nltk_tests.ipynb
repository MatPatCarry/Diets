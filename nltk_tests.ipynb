{
 "cells": [
  {
   "cell_type": "code",
   "execution_count": 2,
   "metadata": {},
   "outputs": [
    {
     "name": "stderr",
     "output_type": "stream",
     "text": [
      "[nltk_data] Downloading package pl196x to\n",
      "[nltk_data]     C:\\Users\\Piotr\\AppData\\Roaming\\nltk_data...\n",
      "[nltk_data]   Unzipping corpora\\pl196x.zip.\n"
     ]
    },
    {
     "data": {
      "text/plain": [
       "True"
      ]
     },
     "execution_count": 2,
     "metadata": {},
     "output_type": "execute_result"
    }
   ],
   "source": [
    "import nltk\n",
    "nltk.download('pl196x')"
   ]
  },
  {
   "cell_type": "code",
   "execution_count": 5,
   "metadata": {},
   "outputs": [],
   "source": [
    "import morfeusz2\n",
    "morf = morfeusz2.Morfeusz()"
   ]
  },
  {
   "cell_type": "code",
   "execution_count": 18,
   "metadata": {},
   "outputs": [
    {
     "name": "stdout",
     "output_type": "stream",
     "text": [
      "(0, 1, ('witam', 'witać', 'fin:sg:pri:imperf', [], []))\n",
      "(1, 2, (',', ',', 'interp', [], []))\n"
     ]
    }
   ],
   "source": [
    "n = 'witam, '\n",
    "analysis = morf.analyse(n)\n",
    "for interpretation in analysis:\n",
    "    print(interpretation)"
   ]
  },
  {
   "cell_type": "code",
   "execution_count": 12,
   "metadata": {},
   "outputs": [
    {
     "name": "stdout",
     "output_type": "stream",
     "text": [
      "Jaś miał kota\n",
      "jaś\n",
      "Jaś:Sf\n",
      "Jaś:Sm1\n",
      "Jasia\n",
      "mieć\n",
      "miał\n",
      "kota\n",
      "kot:Sm1\n",
      "kot:Sm2\n",
      "Coś zrobił?\n",
      "co:S\n",
      "co:S\n",
      "co:S\n",
      "co:M\n",
      "coś:T\n",
      "coś:S\n",
      "coś:S\n",
      "coś:S\n",
      "być\n",
      "zrobić\n",
      "?\n",
      "qwerty\n",
      "qwerty\n"
     ]
    }
   ],
   "source": [
    "for text in ('Jaś miał kota', 'Coś zrobił?', 'qwerty'):\n",
    "    print(text)\n",
    "    analysis = morf.analyse(text)\n",
    "    for interpretation in analysis:\n",
    "        print(interpretation[2][1])"
   ]
  }
 ],
 "metadata": {
  "kernelspec": {
   "display_name": "Python 3.9.12 ('base')",
   "language": "python",
   "name": "python3"
  },
  "language_info": {
   "codemirror_mode": {
    "name": "ipython",
    "version": 3
   },
   "file_extension": ".py",
   "mimetype": "text/x-python",
   "name": "python",
   "nbconvert_exporter": "python",
   "pygments_lexer": "ipython3",
   "version": "3.9.12"
  },
  "orig_nbformat": 4,
  "vscode": {
   "interpreter": {
    "hash": "ad2bdc8ecc057115af97d19610ffacc2b4e99fae6737bb82f5d7fb13d2f2c186"
   }
  }
 },
 "nbformat": 4,
 "nbformat_minor": 2
}
