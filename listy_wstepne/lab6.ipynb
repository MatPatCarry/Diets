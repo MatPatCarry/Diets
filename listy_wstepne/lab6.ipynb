{
 "cells": [
  {
   "cell_type": "code",
   "execution_count": 37,
   "metadata": {},
   "outputs": [],
   "source": [
    "import numpy as np\n",
    "import networkx as nx\n",
    "import matplotlib.pyplot as plt\n",
    "from math import fabs"
   ]
  },
  {
   "cell_type": "code",
   "execution_count": 38,
   "metadata": {},
   "outputs": [],
   "source": [
    "width, length = 3, 3"
   ]
  },
  {
   "cell_type": "code",
   "execution_count": 39,
   "metadata": {},
   "outputs": [],
   "source": [
    "counter = 1\n",
    "nodes = [i for i in range(1, width * length + 1)]\n",
    "positions = {}\n",
    "\n",
    "connections = []\n",
    "borders = []\n",
    "inside = []"
   ]
  },
  {
   "cell_type": "code",
   "execution_count": 40,
   "metadata": {},
   "outputs": [],
   "source": [
    "for i in range(width):\n",
    "    for j in range(length):\n",
    "        positions[counter] = (i, j)\n",
    "        if (i in [0, width - 1]) or (j in [0, length - 1]):\n",
    "            borders.append((i, j))\n",
    "        counter += 1"
   ]
  },
  {
   "cell_type": "code",
   "execution_count": 41,
   "metadata": {},
   "outputs": [],
   "source": [
    "revesred_positions = {pos: node for node, pos in positions.items()}"
   ]
  },
  {
   "cell_type": "code",
   "execution_count": 42,
   "metadata": {},
   "outputs": [],
   "source": [
    "for pos in positions.values():\n",
    "    if pos not in borders:\n",
    "        inside.append(pos)"
   ]
  },
  {
   "cell_type": "code",
   "execution_count": 43,
   "metadata": {},
   "outputs": [],
   "source": [
    "for insider in inside:\n",
    "    for (r, c) in positions.values():\n",
    "        if (r == insider[0]) & (fabs(c - insider[1]) == 1):\n",
    "            connections.append((revesred_positions[insider], revesred_positions[(r, c)]))\n",
    "        elif (c == insider[1]) & (fabs(r - insider[0]) == 1):\n",
    "            connections.append((revesred_positions[insider], revesred_positions[(r, c)]))"
   ]
  },
  {
   "cell_type": "code",
   "execution_count": 44,
   "metadata": {},
   "outputs": [],
   "source": [
    "for index, (r1, c1) in enumerate(borders):\n",
    "    for index2, (r2, c2) in enumerate(borders[index:]):\n",
    "\n",
    "        if (r1, c1) != (r2, c2):\n",
    "\n",
    "            if (r1 == r2) & (fabs(c1 - c2) == 1):\n",
    "                connections.append((revesred_positions[(r1, c1)], revesred_positions[(r2, c2)]))\n",
    "\n",
    "            elif (c1 == c2) & (fabs(r1 - r2) == 1):\n",
    "                connections.append((revesred_positions[(r1, c1)], revesred_positions[(r2, c2)]))\n",
    "\n",
    "        # print(f\"{(r1, c1)} - {(r2, c2)}\")\n",
    "\n",
    "    # if index == len(borders) - 1:\n",
    "    #     start, end = borders[index], borders[0]\n",
    "    # else:\n",
    "    #     start, end = borders[index], borders[index + 1]\n",
    "        \n",
    "    # connections.append((revesred_positions[start], revesred_positions[end]))"
   ]
  },
  {
   "cell_type": "code",
   "execution_count": 45,
   "metadata": {},
   "outputs": [
    {
     "data": {
      "image/png": "[encoded data removed]",
      "text/plain": [
       "<Figure size 864x504 with 1 Axes>"
      ]
     },
     "metadata": {},
     "output_type": "display_data"
    }
   ],
   "source": [
    "fig, axes = plt.subplots(figsize=(12, 7))\n",
    "G = nx.Graph()\n",
    "G.add_nodes_from(nodes)\n",
    "G.add_edges_from(connections)\n",
    "nx.draw(G, positions, with_labels=True, font_weight='bold', ax=axes)\n",
    "plt.show()"
   ]
  }
 ],
 "metadata": {
  "kernelspec": {
   "display_name": "Python 3.9.13 ('base')",
   "language": "python",
   "name": "python3"
  },
  "language_info": {
   "codemirror_mode": {
    "name": "ipython",
    "version": 3
   },
   "file_extension": ".py",
   "mimetype": "text/x-python",
   "name": "python",
   "nbconvert_exporter": "python",
   "pygments_lexer": "ipython3",
   "version": "3.9.13 (main, Aug 25 2022, 23:51:50) [MSC v.1916 64 bit (AMD64)]"
  },
  "orig_nbformat": 4,
  "vscode": {
   "interpreter": {
    "hash": "3af084fa46ca06d2a23e4d5db09ff88cab715f76eefcf345e828351b87327e13"
   }
  }
 },
 "nbformat": 4,
 "nbformat_minor": 2
}
